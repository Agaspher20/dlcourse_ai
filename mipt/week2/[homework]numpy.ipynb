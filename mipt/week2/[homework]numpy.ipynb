{
 "cells": [
  {
   "cell_type": "markdown",
   "metadata": {
    "colab_type": "text",
    "id": "j3bbZRkqF3S1"
   },
   "source": [
    "<p style=\"align: center;\"><img align=center src=\"https://s8.hostingkartinok.com/uploads/images/2018/08/308b49fcfbc619d629fe4604bceb67ac.jpg\" width=500 height=450/></p>\n",
    "\n",
    "<h3 style=\"text-align: center;\"><b>Физтех-Школа Прикладной математики и информатики (ФПМИ) МФТИ</b></h3>\n"
   ]
  },
  {
   "cell_type": "markdown",
   "metadata": {
    "colab_type": "text",
    "id": "ElNwf2J6GDHg"
   },
   "source": [
    "---"
   ]
  },
  {
   "cell_type": "markdown",
   "metadata": {
    "colab_type": "text",
    "id": "9zWJc5rl9kVh"
   },
   "source": [
    "## Домашнее задание 2: библиотека Numpy и линейная алгебра\n"
   ]
  },
  {
   "cell_type": "markdown",
   "metadata": {
    "colab_type": "text",
    "id": "nq2vjOfwWLwF"
   },
   "source": [
    "Импортируем библиотеки:"
   ]
  },
  {
   "cell_type": "code",
   "execution_count": 1,
   "metadata": {
    "colab": {},
    "colab_type": "code",
    "id": "R0mDEfRJ9kVi"
   },
   "outputs": [],
   "source": [
    "import numpy as np\n",
    "import pandas as pd\n",
    "import matplotlib.pyplot as plt\n",
    "\n",
    "from scipy import ndimage  # спецификатор для работы с изображениями\n",
    "from scipy import misc\n",
    "import scipy.stats as sps\n",
    "\n",
    "from PIL import Image\n",
    "\n",
    "%matplotlib inline"
   ]
  },
  {
   "cell_type": "markdown",
   "metadata": {
    "colab_type": "text",
    "id": "8t9loOAc9kVm"
   },
   "source": [
    "*Вопросы для самопроверки:*\n",
    "1. Что такое NumPy?\n",
    "2. Зачем используется и почему работает быстрее?\n",
    "3. Что такое линейная алгебра?\n",
    "4. Как она связана с машинным обучением и глубоким обучением?"
   ]
  },
  {
   "cell_type": "markdown",
   "metadata": {
    "colab_type": "text",
    "id": "ZexBy7Kb9kVm"
   },
   "source": [
    "### Задание 1"
   ]
  },
  {
   "cell_type": "markdown",
   "metadata": {
    "colab_type": "text",
    "id": "QuJhYgJU9kVn"
   },
   "source": [
    "В первой задаче вам предлагается перемножить две квадратные матрицы двумя способами -- без использования пакета numpy и с ним."
   ]
  },
  {
   "cell_type": "code",
   "execution_count": 2,
   "metadata": {
    "colab": {},
    "colab_type": "code",
    "id": "506uaq1E9kVn"
   },
   "outputs": [
    {
     "name": "stdout",
     "output_type": "stream",
     "text": [
      "[[0.92083047 0.03349494 0.45484215 0.02516955 0.72527524 0.57373494\n",
      "  0.59853592 0.78028086 0.22411045 0.042796  ]\n",
      " [0.47486043 0.31563626 0.82513248 0.39167084 0.5732662  0.79297187\n",
      "  0.83491398 0.21065711 0.41057652 0.70845428]\n",
      " [0.95410608 0.19571249 0.44600115 0.79306287 0.86666619 0.27465681\n",
      "  0.57345977 0.73045273 0.49221365 0.82161274]\n",
      " [0.11981615 0.22266524 0.62287648 0.61528987 0.27428729 0.81738175\n",
      "  0.41673376 0.03440259 0.33576882 0.89183468]\n",
      " [0.36577972 0.4455093  0.04467735 0.76358503 0.33471533 0.59919301\n",
      "  0.11916214 0.52989639 0.9906932  0.76038884]\n",
      " [0.51536047 0.55816031 0.62168971 0.89828414 0.63250279 0.12407647\n",
      "  0.15490293 0.41850369 0.17857035 0.69688233]\n",
      " [0.39736287 0.41196069 0.22999517 0.2616129  0.03523328 0.49070099\n",
      "  0.95234645 0.94427816 0.35869145 0.52713498]\n",
      " [0.94796078 0.9327793  0.79496996 0.82795929 0.32133521 0.34221143\n",
      "  0.41807976 0.21690084 0.8266936  0.0950201 ]\n",
      " [0.99347202 0.01479994 0.38663817 0.57967013 0.86241188 0.27049811\n",
      "  0.38082859 0.90942051 0.9304274  0.51724915]\n",
      " [0.92858378 0.83653499 0.92596698 0.46411887 0.02698257 0.01287654\n",
      "  0.9723839  0.16777257 0.85758402 0.1850504 ]]\n",
      "[[0.83373599 0.67922307 0.72972384 0.81722763 0.74197997 0.81249877\n",
      "  0.55669011 0.22071513 0.91316132 0.26247757]\n",
      " [0.5484656  0.87490852 0.02749277 0.31965167 0.32355062 0.62505106\n",
      "  0.40775535 0.80008719 0.33223894 0.43828068]\n",
      " [0.40541683 0.93325528 0.27607623 0.5399526  0.17802013 0.49868812\n",
      "  0.55932349 0.12085437 0.90258527 0.18210736]\n",
      " [0.1922096  0.26722369 0.12126376 0.14937626 0.39166691 0.01666457\n",
      "  0.71500369 0.19134859 0.1305351  0.43542533]\n",
      " [0.8383755  0.0751353  0.60862971 0.52661475 0.51585814 0.49909412\n",
      "  0.74294504 0.41511277 0.66300628 0.1373094 ]\n",
      " [0.84229369 0.58352468 0.21665838 0.21947935 0.10514264 0.07293049\n",
      "  0.92327871 0.32409057 0.10581805 0.97565365]\n",
      " [0.90496586 0.94315022 0.99590512 0.68763775 0.60771943 0.96371194\n",
      "  0.97245691 0.10903637 0.78836912 0.96056803]\n",
      " [0.58852627 0.12526659 0.44884602 0.93439067 0.68002105 0.24726429\n",
      "  0.84493541 0.62315036 0.8060732  0.79447663]\n",
      " [0.19596807 0.17398603 0.65257391 0.70264516 0.26229516 0.57154039\n",
      "  0.10194388 0.81681905 0.52746409 0.19043117]\n",
      " [0.05364618 0.72805412 0.26296225 0.82678995 0.83898371 0.69036292\n",
      "  0.73460442 0.59312829 0.97310198 0.19743421]]\n"
     ]
    }
   ],
   "source": [
    "# Для генерации матриц используем фукнцию random -- она используется для генерации случайных объектов \n",
    "# функция sample создает случайную выборку. В качестве аргумента ей передается кортеж (i,j), здесь i -- число строк,\n",
    "# j -- число столбцов.\n",
    "a = np.random.sample((10,10))\n",
    "b = np.random.sample((10,10))\n",
    "# выведите размерность (ранг) каждой матрицы с помощью функции ndim.\n",
    "# Используйте функцию shape, что она вывела?\n",
    "# ========\n",
    "# тут можно писать код \n",
    "# ========\n",
    "print(a)\n",
    "print(b)"
   ]
  },
  {
   "cell_type": "code",
   "execution_count": 3,
   "metadata": {
    "colab": {},
    "colab_type": "code",
    "id": "OT01mk-C9kVq"
   },
   "outputs": [
    {
     "data": {
      "text/plain": [
       "array([[3.11372983, 2.20764863, 2.47103793, 2.85396784, 2.20840491,\n",
       "        2.32756163, 3.16285421, 1.53677468, 3.06807379, 2.25549718],\n",
       "       [3.12536853, 3.38026841, 2.53147644, 3.11411975, 2.48657368,\n",
       "        2.92552489, 3.84485281, 2.00485481, 3.53234796, 2.62357783],\n",
       "       [3.28338489, 2.98900263, 2.94413146, 3.8202601 , 3.30086995,\n",
       "        3.16754655, 4.15350496, 2.42868433, 4.14605581, 2.53684156],\n",
       "       [2.02225987, 2.62456252, 1.56826171, 2.21316162, 1.8532099 ,\n",
       "        1.97162236, 3.0279678 , 1.64648679, 2.49547666, 2.01317853],\n",
       "       [2.154137  , 2.16349926, 1.92060406, 2.789153  , 2.28880259,\n",
       "        2.15844828, 2.98132559, 2.52525053, 2.69092501, 2.13669112],\n",
       "       [2.25415372, 2.51550497, 1.72571788, 2.62897644, 2.37504905,\n",
       "        2.25325932, 3.12334503, 1.94699715, 2.99871058, 1.7450356 ],\n",
       "       [2.65976785, 2.66654508, 2.26924143, 2.97099496, 2.39853245,\n",
       "        2.47297562, 3.33188523, 1.96673335, 3.03086141, 2.76162301],\n",
       "       [3.01412717, 3.28146142, 2.38517339, 3.01970743, 2.37084891,\n",
       "        2.9434529 , 3.24330667, 2.36670227, 3.28336662, 2.29102924],\n",
       "       [3.1453795 , 2.43767664, 3.01654543, 3.81854927, 3.03898717,\n",
       "        2.94981233, 3.69384854, 2.50944141, 3.96456284, 2.34002326],\n",
       "       [2.88778158, 3.58239011, 2.68374324, 3.19359438, 2.40676568,\n",
       "        3.35773725, 3.05045473, 2.11116539, 3.57572854, 2.26453035]])"
      ]
     },
     "execution_count": 3,
     "metadata": {},
     "output_type": "execute_result"
    }
   ],
   "source": [
    "def mult(a, b):\n",
    "    result = []\n",
    "    for i in range(0, a.shape[0]):\n",
    "        resultRow = []\n",
    "        row = a[i]\n",
    "        \n",
    "        for j in range(0, b.shape[1]):\n",
    "            column = b[:, j]\n",
    "            resultRow.append(sum([row[k] * column[k] for k in range(0, a.shape[1])]))\n",
    "        result.append(resultRow)\n",
    "            \n",
    "    return np.array(result)\n",
    "mult(a, b)"
   ]
  },
  {
   "cell_type": "code",
   "execution_count": 4,
   "metadata": {
    "colab": {},
    "colab_type": "code",
    "id": "AyyDUyqh9kVs"
   },
   "outputs": [
    {
     "data": {
      "text/plain": [
       "array([[3.11372983, 2.20764863, 2.47103793, 2.85396784, 2.20840491,\n",
       "        2.32756163, 3.16285421, 1.53677468, 3.06807379, 2.25549718],\n",
       "       [3.12536853, 3.38026841, 2.53147644, 3.11411975, 2.48657368,\n",
       "        2.92552489, 3.84485281, 2.00485481, 3.53234796, 2.62357783],\n",
       "       [3.28338489, 2.98900263, 2.94413146, 3.8202601 , 3.30086995,\n",
       "        3.16754655, 4.15350496, 2.42868433, 4.14605581, 2.53684156],\n",
       "       [2.02225987, 2.62456252, 1.56826171, 2.21316162, 1.8532099 ,\n",
       "        1.97162236, 3.0279678 , 1.64648679, 2.49547666, 2.01317853],\n",
       "       [2.154137  , 2.16349926, 1.92060406, 2.789153  , 2.28880259,\n",
       "        2.15844828, 2.98132559, 2.52525053, 2.69092501, 2.13669112],\n",
       "       [2.25415372, 2.51550497, 1.72571788, 2.62897644, 2.37504905,\n",
       "        2.25325932, 3.12334503, 1.94699715, 2.99871058, 1.7450356 ],\n",
       "       [2.65976785, 2.66654508, 2.26924143, 2.97099496, 2.39853245,\n",
       "        2.47297562, 3.33188523, 1.96673335, 3.03086141, 2.76162301],\n",
       "       [3.01412717, 3.28146142, 2.38517339, 3.01970743, 2.37084891,\n",
       "        2.9434529 , 3.24330667, 2.36670227, 3.28336662, 2.29102924],\n",
       "       [3.1453795 , 2.43767664, 3.01654543, 3.81854927, 3.03898717,\n",
       "        2.94981233, 3.69384854, 2.50944141, 3.96456284, 2.34002326],\n",
       "       [2.88778158, 3.58239011, 2.68374324, 3.19359438, 2.40676568,\n",
       "        3.35773725, 3.05045473, 2.11116539, 3.57572854, 2.26453035]])"
      ]
     },
     "execution_count": 4,
     "metadata": {},
     "output_type": "execute_result"
    }
   ],
   "source": [
    "def np_mult(a, b):\n",
    "    return a.dot(b)\n",
    "\n",
    "np_mult(a, b)"
   ]
  },
  {
   "cell_type": "code",
   "execution_count": 5,
   "metadata": {
    "colab": {},
    "colab_type": "code",
    "id": "bL4XGWIh9kVu"
   },
   "outputs": [
    {
     "name": "stdout",
     "output_type": "stream",
     "text": [
      "Wall time: 0 ns\n"
     ]
    },
    {
     "data": {
      "text/plain": [
       "array([[3.11372983, 2.20764863, 2.47103793, 2.85396784, 2.20840491,\n",
       "        2.32756163, 3.16285421, 1.53677468, 3.06807379, 2.25549718],\n",
       "       [3.12536853, 3.38026841, 2.53147644, 3.11411975, 2.48657368,\n",
       "        2.92552489, 3.84485281, 2.00485481, 3.53234796, 2.62357783],\n",
       "       [3.28338489, 2.98900263, 2.94413146, 3.8202601 , 3.30086995,\n",
       "        3.16754655, 4.15350496, 2.42868433, 4.14605581, 2.53684156],\n",
       "       [2.02225987, 2.62456252, 1.56826171, 2.21316162, 1.8532099 ,\n",
       "        1.97162236, 3.0279678 , 1.64648679, 2.49547666, 2.01317853],\n",
       "       [2.154137  , 2.16349926, 1.92060406, 2.789153  , 2.28880259,\n",
       "        2.15844828, 2.98132559, 2.52525053, 2.69092501, 2.13669112],\n",
       "       [2.25415372, 2.51550497, 1.72571788, 2.62897644, 2.37504905,\n",
       "        2.25325932, 3.12334503, 1.94699715, 2.99871058, 1.7450356 ],\n",
       "       [2.65976785, 2.66654508, 2.26924143, 2.97099496, 2.39853245,\n",
       "        2.47297562, 3.33188523, 1.96673335, 3.03086141, 2.76162301],\n",
       "       [3.01412717, 3.28146142, 2.38517339, 3.01970743, 2.37084891,\n",
       "        2.9434529 , 3.24330667, 2.36670227, 3.28336662, 2.29102924],\n",
       "       [3.1453795 , 2.43767664, 3.01654543, 3.81854927, 3.03898717,\n",
       "        2.94981233, 3.69384854, 2.50944141, 3.96456284, 2.34002326],\n",
       "       [2.88778158, 3.58239011, 2.68374324, 3.19359438, 2.40676568,\n",
       "        3.35773725, 3.05045473, 2.11116539, 3.57572854, 2.26453035]])"
      ]
     },
     "execution_count": 5,
     "metadata": {},
     "output_type": "execute_result"
    }
   ],
   "source": [
    "%%time\n",
    "# засечем время работы функции без NumPy\n",
    "mult(a,b)"
   ]
  },
  {
   "cell_type": "code",
   "execution_count": 6,
   "metadata": {
    "colab": {},
    "colab_type": "code",
    "id": "Ej9y25jB9kVw"
   },
   "outputs": [
    {
     "name": "stdout",
     "output_type": "stream",
     "text": [
      "Wall time: 0 ns\n"
     ]
    },
    {
     "data": {
      "text/plain": [
       "array([[3.11372983, 2.20764863, 2.47103793, 2.85396784, 2.20840491,\n",
       "        2.32756163, 3.16285421, 1.53677468, 3.06807379, 2.25549718],\n",
       "       [3.12536853, 3.38026841, 2.53147644, 3.11411975, 2.48657368,\n",
       "        2.92552489, 3.84485281, 2.00485481, 3.53234796, 2.62357783],\n",
       "       [3.28338489, 2.98900263, 2.94413146, 3.8202601 , 3.30086995,\n",
       "        3.16754655, 4.15350496, 2.42868433, 4.14605581, 2.53684156],\n",
       "       [2.02225987, 2.62456252, 1.56826171, 2.21316162, 1.8532099 ,\n",
       "        1.97162236, 3.0279678 , 1.64648679, 2.49547666, 2.01317853],\n",
       "       [2.154137  , 2.16349926, 1.92060406, 2.789153  , 2.28880259,\n",
       "        2.15844828, 2.98132559, 2.52525053, 2.69092501, 2.13669112],\n",
       "       [2.25415372, 2.51550497, 1.72571788, 2.62897644, 2.37504905,\n",
       "        2.25325932, 3.12334503, 1.94699715, 2.99871058, 1.7450356 ],\n",
       "       [2.65976785, 2.66654508, 2.26924143, 2.97099496, 2.39853245,\n",
       "        2.47297562, 3.33188523, 1.96673335, 3.03086141, 2.76162301],\n",
       "       [3.01412717, 3.28146142, 2.38517339, 3.01970743, 2.37084891,\n",
       "        2.9434529 , 3.24330667, 2.36670227, 3.28336662, 2.29102924],\n",
       "       [3.1453795 , 2.43767664, 3.01654543, 3.81854927, 3.03898717,\n",
       "        2.94981233, 3.69384854, 2.50944141, 3.96456284, 2.34002326],\n",
       "       [2.88778158, 3.58239011, 2.68374324, 3.19359438, 2.40676568,\n",
       "        3.35773725, 3.05045473, 2.11116539, 3.57572854, 2.26453035]])"
      ]
     },
     "execution_count": 6,
     "metadata": {},
     "output_type": "execute_result"
    }
   ],
   "source": [
    "%%time\n",
    "# засечем время работы функции с NumPy\n",
    "np_mult(a,b)"
   ]
  },
  {
   "cell_type": "markdown",
   "metadata": {
    "colab_type": "text",
    "id": "pNEVDEQJ9kVz"
   },
   "source": [
    "### Задание 2"
   ]
  },
  {
   "cell_type": "markdown",
   "metadata": {
    "colab_type": "text",
    "id": "TNG-vLX_9kVz"
   },
   "source": [
    "Напишите функцию, которая по данной последовательности $\\{A_i\\}_{i=1}^n$ строит последовательность $S_n$, где $S_k = \\frac{A_1 + ... + A_k}{k}$.\n",
    "Аналогично -- с помощью библиотеки NumPy и без нее. Сравните скорость, объясните результат."
   ]
  },
  {
   "cell_type": "code",
   "execution_count": 7,
   "metadata": {
    "colab": {},
    "colab_type": "code",
    "id": "VNuFOp519kV0"
   },
   "outputs": [],
   "source": [
    "# функция, решающая задачу с помощью NumPy\n",
    "def sec_av(A):\n",
    "    return np.cumsum(A)/np.arange(1, len(A)+1)"
   ]
  },
  {
   "cell_type": "code",
   "execution_count": 8,
   "metadata": {
    "colab": {},
    "colab_type": "code",
    "id": "kgKYKkRR9kV2"
   },
   "outputs": [
    {
     "name": "stdout",
     "output_type": "stream",
     "text": [
      "Wall time: 109 ms\n",
      "Wall time: 5.01 s\n"
     ]
    },
    {
     "data": {
      "text/plain": [
       "0.0"
      ]
     },
     "execution_count": 8,
     "metadata": {},
     "output_type": "execute_result"
    }
   ],
   "source": [
    "# функция без NumPy\n",
    "def stupid_sec_av(A):\n",
    "    S = []\n",
    "    sum = 0\n",
    "    for i in range(len(A)):\n",
    "        sum += A[i]\n",
    "        S.append(sum/(i+1))\n",
    "    return np.array(S)\n",
    "\n",
    "# зададим некоторую последовательность и проверим ее на ваших функциях. \n",
    "# Первая функция должна работать ~ в 50 раз быстрее\n",
    "A = sps.uniform.rvs(size=10 ** 7) \n",
    "\n",
    "%time S1 = sec_av(A)\n",
    "%time S2 = stupid_sec_av(A)\n",
    "#проверим корректность:\n",
    "np.abs(S1 - S2).sum()"
   ]
  },
  {
   "cell_type": "markdown",
   "metadata": {
    "colab_type": "text",
    "id": "hYOmgppl9kV5"
   },
   "source": [
    "### Задание 3"
   ]
  },
  {
   "cell_type": "markdown",
   "metadata": {
    "colab_type": "text",
    "id": "TkrFKdoJ9kV5"
   },
   "source": [
    "Пусть задан некоторый массив $X$. Надо построить новый массив, где все элементы с нечетными индексами требуется заменить на число $a$ (если оно не указано, то на 1). Все четные элементы исходного массива нужно возвести в куб и записать в обратном порядке относительно позиций этих элементов. Массив $X$ при этом должен остаться без изменений. В конце требуется слить массив $X$ с преобразованным $X$ и вывести в обратном порядке."
   ]
  },
  {
   "cell_type": "code",
   "execution_count": 9,
   "metadata": {
    "colab": {},
    "colab_type": "code",
    "id": "MOUotbrS9kV7"
   },
   "outputs": [],
   "source": [
    "# функция, решающая задачу с помощью NumPy\n",
    "def transformation(X, a=1):\n",
    "    Y = X\n",
    "    Y[::2] = a\n",
    "    Y[1::2] = X[1::2][::-1]**3\n",
    "    return Y"
   ]
  },
  {
   "cell_type": "code",
   "execution_count": 10,
   "metadata": {
    "colab": {},
    "colab_type": "code",
    "id": "Ut3v_joM9kV9"
   },
   "outputs": [],
   "source": [
    "# функция, решающая задачу  без NumPy\n",
    "def stupid_transformation(X, a=1):\n",
    "    indices = list(range(len(X)))\n",
    "    Y = [X[i]**3 if i % 2 > 0 else a for i in indices]\n",
    "    rev = reversed(Y[1::2])\n",
    "    for v, idx in zip(rev, indices[1::2]):\n",
    "        Y[idx] = v\n",
    "    return Y"
   ]
  },
  {
   "cell_type": "code",
   "execution_count": 11,
   "metadata": {
    "colab": {},
    "colab_type": "code",
    "id": "6SezU3-O9kV_"
   },
   "outputs": [
    {
     "name": "stdout",
     "output_type": "stream",
     "text": [
      "Wall time: 203 ms\n",
      "Wall time: 2.91 s\n"
     ]
    },
    {
     "data": {
      "text/plain": [
       "1327544.7807477547"
      ]
     },
     "execution_count": 11,
     "metadata": {},
     "output_type": "execute_result"
    }
   ],
   "source": [
    "X = sps.uniform.rvs(size=10 ** 7) \n",
    "# здесь код эффективнее примерно в 20 раз. \n",
    "# если Вы вдруг соберетесь печатать массив без np -- лучше сначала посмотрите на его размер\n",
    "%time S1 = transformation(X)\n",
    "%time S2 = stupid_transformation(X)\n",
    "# проверим корректность:\n",
    "np.abs(S1 - S2).sum()"
   ]
  },
  {
   "cell_type": "markdown",
   "metadata": {
    "colab_type": "text",
    "id": "q7eDK6zZ9kWC"
   },
   "source": [
    "Что вы можете сказать о скорости вычислений в `NumPy`? Ответ обоснуйте.\n",
    "\n",
    "**Ответ:**"
   ]
  },
  {
   "cell_type": "markdown",
   "metadata": {
    "colab_type": "text",
    "id": "SLWNN0DA9kWF"
   },
   "source": [
    "### Задание 4"
   ]
  },
  {
   "cell_type": "markdown",
   "metadata": {
    "colab_type": "text",
    "id": "k1tdLLo29kWG"
   },
   "source": [
    "Вам подаются на вход два вектора `a` и `b` в трехмерном пространстве.Заполните их случайными числами. Реализуйте их скалярное произведение с помощью  `NumPy` и без. Засеките время работы, как это показано в заданиях выше."
   ]
  },
  {
   "cell_type": "code",
   "execution_count": 12,
   "metadata": {
    "colab": {},
    "colab_type": "code",
    "id": "116WkBP49kWH"
   },
   "outputs": [
    {
     "name": "stdout",
     "output_type": "stream",
     "text": [
      "[2.  3.5 5. ] [ 7. 10. 13.]\n"
     ]
    }
   ],
   "source": [
    "a = np.linspace(2, 5, 3)\n",
    "b = np.linspace(7, 13, 3)\n",
    "print(a, b)"
   ]
  },
  {
   "cell_type": "code",
   "execution_count": 13,
   "metadata": {
    "colab": {},
    "colab_type": "code",
    "id": "6HKKpgD39kWL"
   },
   "outputs": [
    {
     "data": {
      "text/plain": [
       "114.0"
      ]
     },
     "execution_count": 13,
     "metadata": {},
     "output_type": "execute_result"
    }
   ],
   "source": [
    "def stupid_scalar_product(a,b):\n",
    "    return sum(map(lambda vs: vs[0]*vs[1], zip(a,b)))\n",
    "stupid_scalar_product(a,b)"
   ]
  },
  {
   "cell_type": "code",
   "execution_count": 14,
   "metadata": {
    "colab": {},
    "colab_type": "code",
    "id": "lta984vp9kWP"
   },
   "outputs": [
    {
     "data": {
      "text/plain": [
       "114.0"
      ]
     },
     "execution_count": 14,
     "metadata": {},
     "output_type": "execute_result"
    }
   ],
   "source": [
    "def numpy_scalar_product(a,b):\n",
    "    return a.dot(b)\n",
    "numpy_scalar_product(a,b)"
   ]
  },
  {
   "cell_type": "code",
   "execution_count": 15,
   "metadata": {
    "colab": {},
    "colab_type": "code",
    "id": "5QK3Yj5j9kWR"
   },
   "outputs": [
    {
     "name": "stdout",
     "output_type": "stream",
     "text": [
      "Wall time: 0 ns\n",
      "Wall time: 0 ns\n"
     ]
    },
    {
     "data": {
      "text/plain": [
       "0.0"
      ]
     },
     "execution_count": 15,
     "metadata": {},
     "output_type": "execute_result"
    }
   ],
   "source": [
    "%time product_1 = stupid_scalar_product(a,b)\n",
    "%time product_2 = numpy_scalar_product(a,b)\n",
    "# проверим корректность:\n",
    "np.abs(product_1 - product_2).sum()"
   ]
  },
  {
   "cell_type": "markdown",
   "metadata": {
    "colab_type": "text",
    "id": "H7BjRjaOSPjv"
   },
   "source": [
    "### Задание 5*"
   ]
  },
  {
   "cell_type": "markdown",
   "metadata": {
    "colab_type": "text",
    "id": "yfDNm_8QSPx9"
   },
   "source": [
    "Нужно написать матричное произведение БЕЗ циклов и БЕЗ символа @, БЕЗ `np.dot` и вообще БЕЗ какой-либо вспомогательной функции из `numpy`, то есть пользуясь только индексированием, взять суммы по нужным осям и поэлементным произведенем (да, это возможно). Рекомендуем гуглить по запросу \"NumPy broadcasting\""
   ]
  },
  {
   "cell_type": "code",
   "execution_count": 24,
   "metadata": {
    "colab": {},
    "colab_type": "code",
    "id": "odEvxgLiSP65"
   },
   "outputs": [
    {
     "name": "stdout",
     "output_type": "stream",
     "text": [
      "[ 49 105 201]\n",
      "[159 105  61]\n"
     ]
    },
    {
     "data": {
      "text/plain": [
       "array([[ 49,  55,  61],\n",
       "       [ 93, 105, 117],\n",
       "       [159, 180, 201]])"
      ]
     },
     "execution_count": 24,
     "metadata": {},
     "output_type": "execute_result"
    }
   ],
   "source": [
    "a = np.array([[1,2,3], [3,4,5], [6,7,8]])\n",
    "b = np.array([[5,6,7], [7,8,9], [10,11,12]])\n",
    "\n",
    "print(np.sum(a*b.T, axis=1))\n",
    "print(np.sum(np.flip(a, axis=0)*b.T, axis=1))\n",
    "def cool_matrix_product(A, B):\n",
    "    return []\n",
    "a.dot(b)"
   ]
  },
  {
   "cell_type": "code",
   "execution_count": 0,
   "metadata": {
    "colab": {},
    "colab_type": "code",
    "id": "4aO8bEs9SvJ8"
   },
   "outputs": [],
   "source": [
    "# тут проверьте, что всё правильно перемножается"
   ]
  },
  {
   "cell_type": "markdown",
   "metadata": {
    "colab_type": "text",
    "id": "KrJBnpIQSpVB"
   },
   "source": [
    "Ваш код не будет проверяться нами непосредственно, однако это очень и очень полезное упражнение."
   ]
  },
  {
   "cell_type": "markdown",
   "metadata": {
    "colab_type": "text",
    "id": "J_7dapMK9kWS"
   },
   "source": [
    "## Бонусная часть (в тесте вопросов по ней не будет)"
   ]
  },
  {
   "cell_type": "markdown",
   "metadata": {
    "colab_type": "text",
    "id": "Ld2wo7J49kWT"
   },
   "source": [
    "Image = 2-D численный массив\n",
    "(или 3-D: CT, MRI, 2D + time; 4-D, …)\n",
    "В текущем задании, image == Numpy array (np.array)"
   ]
  },
  {
   "cell_type": "code",
   "execution_count": 0,
   "metadata": {
    "colab": {},
    "colab_type": "code",
    "id": "4OvzTYbo9kWT"
   },
   "outputs": [],
   "source": [
    "pic = misc.face()  # встроенная в библиотеку функция, которая загружает картинку с енотом"
   ]
  },
  {
   "cell_type": "markdown",
   "metadata": {
    "colab_type": "text",
    "id": "7bfaJn7K9kWW"
   },
   "source": [
    "Выведите тип и размеры для переменной pic. Что лежит внутри?"
   ]
  },
  {
   "cell_type": "code",
   "execution_count": 0,
   "metadata": {
    "colab": {},
    "colab_type": "code",
    "id": "MLlpZY-P9kWW"
   },
   "outputs": [],
   "source": [
    "print(#тут ваш код)"
   ]
  },
  {
   "cell_type": "markdown",
   "metadata": {
    "colab_type": "text",
    "id": "x7SVBSJO9kWY"
   },
   "source": [
    "Если вы все сделали правильно, что для формы у вас выведется кортеж из трех чисел: (X, Y, 3). Предположите, откуда там 3?\n",
    "\n",
    "**Ответ:**"
   ]
  },
  {
   "cell_type": "markdown",
   "metadata": {
    "colab_type": "text",
    "id": "4glUbq3J9kWZ"
   },
   "source": [
    "С помощью функции ниже можно вывести изображение и посмотреть, что находится внутри:"
   ]
  },
  {
   "cell_type": "code",
   "execution_count": 0,
   "metadata": {
    "colab": {},
    "colab_type": "code",
    "id": "wW3QcdHH9kWZ"
   },
   "outputs": [],
   "source": [
    "plt.imshow(pic)"
   ]
  },
  {
   "cell_type": "markdown",
   "metadata": {
    "colab_type": "text",
    "id": "JZbV8aaV9kWb"
   },
   "source": [
    "Убедитесь, что внутри массива `pic` действительно лежат числа. Выведите первые 10 записей.\n",
    "Массив состоит из троек чисел, которые характеризуют глубину цвета для каждого пикселя. Из пикселей складывается картинка."
   ]
  },
  {
   "cell_type": "code",
   "execution_count": 0,
   "metadata": {
    "colab": {},
    "colab_type": "code",
    "id": "vnO9Nu3p9kWb"
   },
   "outputs": [],
   "source": [
    "print(#тут ваш код)"
   ]
  },
  {
   "cell_type": "markdown",
   "metadata": {
    "colab_type": "text",
    "id": "OzS_dpQ59kWc"
   },
   "source": [
    "Выведите значение максимального элемента в матрице. Выведите значение минимального. Выведите среднее по всем элементам матрице. В каких пределах лежат значения глубины цветов?"
   ]
  },
  {
   "cell_type": "code",
   "execution_count": 0,
   "metadata": {
    "colab": {},
    "colab_type": "code",
    "id": "8nLbvb7G9kWd"
   },
   "outputs": [],
   "source": [
    "print(#тут ваш код)"
   ]
  },
  {
   "cell_type": "markdown",
   "metadata": {
    "colab_type": "text",
    "id": "7s08AjBO9kWf"
   },
   "source": [
    "### Задание 2"
   ]
  },
  {
   "cell_type": "markdown",
   "metadata": {
    "colab_type": "text",
    "id": "pqnS54SN9kWf"
   },
   "source": [
    "Теперь загрузим черно-белое изображение енота, чтобы наш массив был не 3-х мерным тензором, а двумерным массивом. Тензоры обрабатываются точно также, но для простоты пока что давайте работать с двумерными массивами, т.е. матрицами."
   ]
  },
  {
   "cell_type": "code",
   "execution_count": 0,
   "metadata": {
    "colab": {},
    "colab_type": "code",
    "id": "B4WAhqU39kWf"
   },
   "outputs": [],
   "source": [
    "pic = misc.face(gray=True)"
   ]
  },
  {
   "cell_type": "code",
   "execution_count": 0,
   "metadata": {
    "colab": {},
    "colab_type": "code",
    "id": "AWuyI0k69kWh"
   },
   "outputs": [],
   "source": [
    "plt.imshow(#тут ваш код)"
   ]
  },
  {
   "cell_type": "markdown",
   "metadata": {
    "colab_type": "text",
    "id": "5wGZtJnX9kWk"
   },
   "source": [
    "Выведите форму (shape) полученной картинки `pic`. Какие выводы можно сделать? Положите в `h`,`w` высоту и ширину картинки."
   ]
  },
  {
   "cell_type": "code",
   "execution_count": 0,
   "metadata": {
    "colab": {},
    "colab_type": "code",
    "id": "3vVanBzU9kWk"
   },
   "outputs": [],
   "source": [
    "print(#тут ваш код)\n",
    "h,w=#тут ваш код"
   ]
  },
  {
   "cell_type": "markdown",
   "metadata": {
    "colab_type": "text",
    "id": "xelx9Hxc9kWl"
   },
   "source": [
    "Используя библиотеку `numpy`, отразите изображение по горизонтали. Выведите картинку.\n",
    "\n",
    "Подсказка: не забывайте, что изображения -- это просто двумерные массивы"
   ]
  },
  {
   "cell_type": "code",
   "execution_count": 0,
   "metadata": {
    "colab": {},
    "colab_type": "code",
    "id": "PuBAIYwW9kWn"
   },
   "outputs": [],
   "source": [
    "#тут ваш код"
   ]
  },
  {
   "cell_type": "markdown",
   "metadata": {
    "colab_type": "text",
    "id": "XExgeFAR9kWp"
   },
   "source": [
    "Теперь давайте повысим контрастность -- для этого к каждому пикселю прибавим 50 единиц"
   ]
  },
  {
   "cell_type": "code",
   "execution_count": 0,
   "metadata": {
    "colab": {},
    "colab_type": "code",
    "id": "HqPiifvL9kWp"
   },
   "outputs": [],
   "source": [
    "#тут ваш код"
   ]
  },
  {
   "cell_type": "code",
   "execution_count": 0,
   "metadata": {
    "colab": {},
    "colab_type": "code",
    "id": "8mjGfjTK9kWs"
   },
   "outputs": [],
   "source": [
    "plt.imshow(pic)"
   ]
  },
  {
   "cell_type": "markdown",
   "metadata": {
    "colab_type": "text",
    "id": "FPWOUsQH9kWu"
   },
   "source": [
    "Теперь давайте попробуем превратить наше одноканальное изображение в трехканальный (RGB) тензор. Для этого вместо каждого пикселя в одноканальном изображении (в двумерном массиве) поставим кортеж из трех элементов -- глубины красного, зеленого и голубого соотвественно. Восстановить по ч/б картинке цветной мы не можем, так как мы не можем взять утерянную информацию из ниоткуда, но можем усилить черные и белые участки. Для этого давайте заполним все три канала одинаковыми значениями, деленными на что-то очень большое. Например $--$ на $200$.  То есть, например, если в пикселе `pic[i][j]` лежало значение **200**, то для нового изображения `new_pic` мы заполняем `new_pic[i][j]` кортежем из трех чисел `int(pic[i][j]/3)`. Функция `int` $--$ округление до целой части."
   ]
  },
  {
   "cell_type": "code",
   "execution_count": 0,
   "metadata": {
    "colab": {},
    "colab_type": "code",
    "id": "hEK9jRSf9kWv"
   },
   "outputs": [],
   "source": [
    "new_pic = np.zeros((h,w,3)) #создадим пустую матрицу, куда будем записывать значения\n",
    "for i in range(h):\n",
    "    for j in range(w):\n",
    "     #тут ваш код"
   ]
  },
  {
   "cell_type": "code",
   "execution_count": 0,
   "metadata": {
    "colab": {},
    "colab_type": "code",
    "id": "_RUpiNo69kWx"
   },
   "outputs": [],
   "source": [
    "plt.imshow(#тут ваш код)"
   ]
  },
  {
   "cell_type": "markdown",
   "metadata": {
    "colab_type": "text",
    "id": "OVO189tU9kWz"
   },
   "source": [
    "### Задание 3"
   ]
  },
  {
   "cell_type": "markdown",
   "metadata": {
    "colab_type": "text",
    "id": "kacDftwY9kW0"
   },
   "source": [
    "Теперь давайте уменьшим качество картинки в 16 раз, путем уменьшения качества изображения, т.е. теперь 16 пикселей по близости надо заполнить одним значением."
   ]
  },
  {
   "cell_type": "code",
   "execution_count": 0,
   "metadata": {
    "colab": {},
    "colab_type": "code",
    "id": "s21pa_tJ9kW0"
   },
   "outputs": [],
   "source": [
    "from sklearn.datasets import load_sample_image #импорт загрузчика изображения"
   ]
  },
  {
   "cell_type": "code",
   "execution_count": 0,
   "metadata": {
    "colab": {},
    "colab_type": "code",
    "id": "yTt_fdLC9kW2"
   },
   "outputs": [],
   "source": [
    "china = load_sample_image('china.jpg')\n",
    "plt.imshow(china)"
   ]
  },
  {
   "cell_type": "markdown",
   "metadata": {
    "colab_type": "text",
    "id": "CV3st_wn9kW4"
   },
   "source": [
    "Запишите в переменные `h`, `w`, `c` высоту, ширину, количество каналов соответственно для картинки `china`."
   ]
  },
  {
   "cell_type": "code",
   "execution_count": 0,
   "metadata": {
    "colab": {},
    "colab_type": "code",
    "id": "nJHwDMmv9kW4"
   },
   "outputs": [],
   "source": [
    "h, w, c = #тут ваш код"
   ]
  },
  {
   "cell_type": "markdown",
   "metadata": {
    "colab_type": "text",
    "id": "xu3xAGDu9kW5"
   },
   "source": [
    "Теперь давайте непосредственно перейдем к изменению картинки $--$ мы предлагаем разбивать картинки на квадраты 4 на 4 и заполнять все 16 значений внутри квадрата левым верхним значением. Вы можете сделать иначе."
   ]
  },
  {
   "cell_type": "code",
   "execution_count": 0,
   "metadata": {
    "colab": {},
    "colab_type": "code",
    "id": "GisNhXFK9kW6"
   },
   "outputs": [],
   "source": [
    "from copy import copy\n",
    "compressed_pic = copy(china)\n",
    "#тут ваш код     "
   ]
  },
  {
   "cell_type": "markdown",
   "metadata": {
    "colab_type": "text",
    "id": "0Kzb067Y9kW8"
   },
   "source": [
    "Напишите функцию, которая считает несоотвествие между исходной и сжатой картинкой. Запустите ваш код для `compressed_pic`, `china`"
   ]
  },
  {
   "cell_type": "code",
   "execution_count": 0,
   "metadata": {
    "colab": {},
    "colab_type": "code",
    "id": "39qh8JuZ9kW9"
   },
   "outputs": [],
   "source": [
    "def calculate_mismatch(a,b):\n",
    "    mismatch=0\n",
    "    #тут ваш код\n",
    "    print(mismatch)"
   ]
  },
  {
   "cell_type": "code",
   "execution_count": 0,
   "metadata": {
    "colab": {},
    "colab_type": "code",
    "id": "kVYOFPMP9kW_"
   },
   "outputs": [],
   "source": [
    "calculate_mismatch(#тут ваш код)"
   ]
  },
  {
   "cell_type": "markdown",
   "metadata": {
    "colab_type": "text",
    "id": "SxQTJIGs9kXF"
   },
   "source": [
    "Посчитайте синус от каждого значения пикселей изображения `china` по всем каналам. Выведите картинку. Используйте функцию `np.sin` "
   ]
  },
  {
   "cell_type": "code",
   "execution_count": 0,
   "metadata": {
    "colab": {},
    "colab_type": "code",
    "id": "UsXNJxLm9kXF"
   },
   "outputs": [],
   "source": [
    "#тут ваш код"
   ]
  },
  {
   "cell_type": "code",
   "execution_count": 0,
   "metadata": {
    "colab": {},
    "colab_type": "code",
    "id": "v8K8YZ3-9kXH"
   },
   "outputs": [],
   "source": [
    "plt.imshow(#тут ваш код) "
   ]
  },
  {
   "cell_type": "markdown",
   "metadata": {
    "colab_type": "text",
    "id": "0oH0MRQL9kXJ"
   },
   "source": [
    "Посмотрите на полученный результат. Как вы думаете, что можно делать с помощью такого преобразования? Какого рода объекты можно распознать?"
   ]
  },
  {
   "cell_type": "markdown",
   "metadata": {
    "colab_type": "text",
    "id": "KNJq_gfL9kXN"
   },
   "source": [
    "### Задание 4*"
   ]
  },
  {
   "cell_type": "markdown",
   "metadata": {
    "colab_type": "text",
    "id": "4ht209199kXO"
   },
   "source": [
    "Теперь давайте поработаем с аудиофайлами. Стандартный аудиофайл представляет собой обычный набор чисел, в котором хранятся значения частот, снятых с определенной периодичностью. Итак, самая простая аудиодорожка $-$ одномерный массив.\n",
    "\n",
    "Первое, что нужно сделать $--$ установить библиотеку для работы с аудио. Она называется `librosa`. Гайд по установке: https://librosa.github.io/librosa/install.html\n"
   ]
  },
  {
   "cell_type": "code",
   "execution_count": 0,
   "metadata": {
    "colab": {},
    "colab_type": "code",
    "id": "nwg7Hn349kXP"
   },
   "outputs": [],
   "source": [
    "import librosa #импортируем библиотеку\n",
    "import IPython.display"
   ]
  },
  {
   "cell_type": "code",
   "execution_count": 0,
   "metadata": {
    "colab": {},
    "colab_type": "code",
    "id": "kbvx2c_L9kXQ"
   },
   "outputs": [],
   "source": [
    "audio, sr= librosa.load('Test.wav')  \n",
    "# записываем наш массив звуковых частот в файл аудио, sr -- число точек, записываемых в секунду. \n",
    "# чтобы файл открылся, он должен лежать в той же папке, что и файл HW_2.ipynb"
   ]
  },
  {
   "cell_type": "markdown",
   "metadata": {
    "colab_type": "text",
    "id": "w9Tipzz99kXS"
   },
   "source": [
    "Нашу дорожку можно воспроизвести в самом файле `.ipynb`:"
   ]
  },
  {
   "cell_type": "code",
   "execution_count": 0,
   "metadata": {
    "colab": {},
    "colab_type": "code",
    "id": "T2Rr5zTX9kXT"
   },
   "outputs": [],
   "source": [
    "IPython.display.Audio(audio, rate=sr)"
   ]
  },
  {
   "cell_type": "markdown",
   "metadata": {
    "colab_type": "text",
    "id": "QPRjmIoZ9kXW"
   },
   "source": [
    "Выведите тип данных переменной `audio`, найдите ее длительность и среднее."
   ]
  },
  {
   "cell_type": "code",
   "execution_count": 0,
   "metadata": {
    "colab": {},
    "colab_type": "code",
    "id": "ECc4dGk49kXW"
   },
   "outputs": [],
   "source": [
    "print(#тут ваш код)"
   ]
  },
  {
   "cell_type": "markdown",
   "metadata": {
    "colab_type": "text",
    "id": "574hvLOr9kXX"
   },
   "source": [
    "    Давайте посмотрим, как выглядит наша дорожка. Для этого используем библиотеку `matplotlib.pyplot`"
   ]
  },
  {
   "cell_type": "code",
   "execution_count": 0,
   "metadata": {
    "colab": {},
    "colab_type": "code",
    "id": "uW5eBW5Q9kXY"
   },
   "outputs": [],
   "source": [
    "plt.figure(figsize=(25,5))\n",
    "plt.title('Test.wav')\n",
    "plt.plot(audio)"
   ]
  },
  {
   "cell_type": "markdown",
   "metadata": {
    "colab_type": "text",
    "id": "uMboMRu89kXZ"
   },
   "source": [
    "Обрежьте последние 4 секунды файла"
   ]
  },
  {
   "cell_type": "code",
   "execution_count": 0,
   "metadata": {
    "colab": {},
    "colab_type": "code",
    "id": "4CcwvAnb9kXb"
   },
   "outputs": [],
   "source": [
    "audio = #тут ваш код"
   ]
  },
  {
   "cell_type": "markdown",
   "metadata": {
    "colab_type": "text",
    "id": "NQTEVqad9kXd"
   },
   "source": [
    "Давайте уменьшим амплитуду на 25%. Что при этом изменится? Напоминаю, что вы всегда можете послушать изменения при помощи `IPython.display.Audio`"
   ]
  },
  {
   "cell_type": "code",
   "execution_count": 0,
   "metadata": {
    "colab": {},
    "colab_type": "code",
    "id": "aYkN5Tbe9kXd"
   },
   "outputs": [],
   "source": [
    "audio = #тут ваш код"
   ]
  },
  {
   "cell_type": "markdown",
   "metadata": {
    "colab_type": "text",
    "id": "0mEQkKbc9kXf"
   },
   "source": [
    "А еще аудиодорожку можно ускорить. Для этого попробуйте потюнить параметр `rate`"
   ]
  },
  {
   "cell_type": "code",
   "execution_count": 0,
   "metadata": {
    "colab": {},
    "colab_type": "code",
    "id": "kCIh5VqX9kXg"
   },
   "outputs": [],
   "source": [
    "IPython.display.Audio(audio, rate=sr)"
   ]
  }
 ],
 "metadata": {
  "colab": {
   "collapsed_sections": [],
   "name": "[homework]numpy.ipynb",
   "provenance": [],
   "version": "0.3.2"
  },
  "kernelspec": {
   "display_name": "Python 3",
   "language": "python",
   "name": "python3"
  },
  "language_info": {
   "codemirror_mode": {
    "name": "ipython",
    "version": 3
   },
   "file_extension": ".py",
   "mimetype": "text/x-python",
   "name": "python",
   "nbconvert_exporter": "python",
   "pygments_lexer": "ipython3",
   "version": "3.6.8"
  }
 },
 "nbformat": 4,
 "nbformat_minor": 1
}
